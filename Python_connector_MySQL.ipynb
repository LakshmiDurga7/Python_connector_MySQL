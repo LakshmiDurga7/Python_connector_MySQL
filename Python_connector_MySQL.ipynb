{
 "cells": [
  {
   "cell_type": "code",
   "execution_count": 1,
   "id": "aa46c790",
   "metadata": {},
   "outputs": [
    {
     "name": "stdout",
     "output_type": "stream",
     "text": [
      "<mysql.connector.connection_cext.CMySQLConnection object at 0x000002A8C5A54C40>\n"
     ]
    }
   ],
   "source": [
    "import mysql.connector \n",
    "#Create the connection object   \n",
    "conn = mysql.connector.connect(host = \"localhost\", user = \"root\",passwd = \"abhi\",database =\"Python_mysql\") \n",
    "#printing the connection object   \n",
    "print(conn) "
   ]
  },
  {
   "cell_type": "code",
   "execution_count": 2,
   "id": "7ba0063d",
   "metadata": {},
   "outputs": [
    {
     "name": "stdout",
     "output_type": "stream",
     "text": [
      "('information_schema',)\n",
      "('mysql',)\n",
      "('performance_schema',)\n",
      "('python_mysql',)\n",
      "('smart_hospital',)\n",
      "('sys',)\n",
      "CMySQLCursor: show databases\n"
     ]
    }
   ],
   "source": [
    "#creating the cursor object  \n",
    "cur = conn.cursor()  \n",
    "try:  \n",
    "    dbs = cur.execute(\"show databases\")  \n",
    "except:  \n",
    "    conn.rollback()  \n",
    "for x in cur:  \n",
    "    print(x)  \n",
    "#conn.close() \n",
    "print(cur)  "
   ]
  },
  {
   "cell_type": "code",
   "execution_count": 3,
   "id": "8d766355",
   "metadata": {},
   "outputs": [],
   "source": [
    "#creating a new database  \n",
    "cur.execute(\"create database PythonMYSQL\") "
   ]
  },
  {
   "cell_type": "code",
   "execution_count": 4,
   "id": "3dbfa206",
   "metadata": {},
   "outputs": [
    {
     "name": "stdout",
     "output_type": "stream",
     "text": [
      "('information_schema',)\n",
      "('mysql',)\n",
      "('performance_schema',)\n",
      "('python_mysql',)\n",
      "('pythonmysql',)\n",
      "('smart_hospital',)\n",
      "('sys',)\n",
      "CMySQLCursor: show databases\n"
     ]
    }
   ],
   "source": [
    "cur = conn.cursor()  \n",
    "try:  \n",
    "    dbs = cur.execute(\"show databases\")  \n",
    "except:  \n",
    "    conn.rollback()  \n",
    "for x in cur:  \n",
    "    print(x)  \n",
    "#conn.close() \n",
    "print(cur) "
   ]
  },
  {
   "cell_type": "code",
   "execution_count": 5,
   "id": "cf238979",
   "metadata": {},
   "outputs": [],
   "source": [
    "#creating table\n",
    "dbs = cur.execute(\"CREATE TABLE STUDENTS_DATA(StuID INT NOT NULL,StuName VARCHAR (20) NOT NULL,StuAge INT NOT NULL,StuAddress VARCHAR (25),StuDegree VARCHAR (20),StuBranch VARCHAR (20))\")\n"
   ]
  },
  {
   "cell_type": "code",
   "execution_count": 6,
   "id": "6aed9cb7",
   "metadata": {},
   "outputs": [],
   "source": [
    "cur = conn.cursor()  \n",
    "q=\"insert into STUDENTS_DATA(StuID,StuName,StuAge,StuAddress,StuDegree,StuBranch)values(%s,%s,%s,%s,%s,%s)\"\n",
    "v=[(101,\"lakshmi\",20,\"RJY\",\"BE\",\"ECE\"),(102,\"Durga\",22,\"HYD\",\"BE\",\"EEE\"),(103,\"ABHI\",24,\"VSP\",\"BE\",\"CSE\"),(104,\"GOWTHAMI\",27,\"VWJ\",\"BTECH\",\"AGRI\"),(105,\"JYOTHSNA\",25,\"RJY\",\"BTECH\",\"CIVILS\"),(106,\"SURESH\",29,\"RAM\",\"BTECH\",\"ME\")]\n",
    "try:\n",
    "    cur.executemany(q,v)\n",
    "    conn.commit()\n",
    "except:  \n",
    "    conn.rollback()    \n",
    "#conn.close()"
   ]
  },
  {
   "cell_type": "code",
   "execution_count": 7,
   "id": "a6836e32",
   "metadata": {},
   "outputs": [],
   "source": [
    "conn.close()"
   ]
  },
  {
   "cell_type": "code",
   "execution_count": null,
   "id": "27a8faff",
   "metadata": {},
   "outputs": [],
   "source": []
  }
 ],
 "metadata": {
  "kernelspec": {
   "display_name": "Python 3 (ipykernel)",
   "language": "python",
   "name": "python3"
  },
  "language_info": {
   "codemirror_mode": {
    "name": "ipython",
    "version": 3
   },
   "file_extension": ".py",
   "mimetype": "text/x-python",
   "name": "python",
   "nbconvert_exporter": "python",
   "pygments_lexer": "ipython3",
   "version": "3.9.12"
  }
 },
 "nbformat": 4,
 "nbformat_minor": 5
}
